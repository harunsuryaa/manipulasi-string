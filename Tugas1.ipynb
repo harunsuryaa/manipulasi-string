{
  "nbformat": 4,
  "nbformat_minor": 0,
  "metadata": {
    "colab": {
      "provenance": [],
      "authorship_tag": "ABX9TyPdSvQzOC8hduXupjvRSFyS",
      "include_colab_link": true
    },
    "kernelspec": {
      "name": "python3",
      "display_name": "Python 3"
    },
    "language_info": {
      "name": "python"
    }
  },
  "cells": [
    {
      "cell_type": "markdown",
      "metadata": {
        "id": "view-in-github",
        "colab_type": "text"
      },
      "source": [
        "<a href=\"https://colab.research.google.com/github/harunsuryaa/manipulasi-string/blob/main/Tugas1.ipynb\" target=\"_parent\"><img src=\"https://colab.research.google.com/assets/colab-badge.svg\" alt=\"Open In Colab\"/></a>"
      ]
    },
    {
      "cell_type": "code",
      "execution_count": null,
      "metadata": {
        "id": "qAjAVMiCfxim"
      },
      "outputs": [],
      "source": [
        "#desain class\n",
        "class Catatan:\n",
        "  def __init__(self, nama, nomor_absen, catatan):\n",
        "    self.nama = nama\n",
        "    self.nomor_absen = nomor_absen\n",
        "    self.catatan = catatan\n",
        "\n",
        "  def gabung(self):\n",
        "    nama = str(self.nama)\n",
        "    absen = str(self.nomor_absen)\n",
        "    catatan = str(self.catatan)\n",
        "\n",
        "    gabungan = (nama +' '+ absen +' '+ catatan)\n",
        "    return gabungan\n",
        "\n",
        "  def tampil(self):\n",
        "    print(self.gabung())\n",
        "\n",
        "  def cari(self):\n",
        "    print('SMKN9MALANG' in self.gabung())\n",
        "\n",
        "  def duplikasi(self):\n",
        "    print(self.gabung() * 3)\n",
        "\n",
        "  def jumlah(self):\n",
        "    print(len(self.gabung()))\n",
        "\n",
        "  def kataawal(self):\n",
        "    awal = 'Siswa'\n",
        "\n",
        "    print(self.gabung().startswith(awal))"
      ]
    },
    {
      "cell_type": "code",
      "source": [
        "#main program\n",
        "siswa1 = Catatan(\"Siswa Rexza\",27,\"saya sekolah di SMKN9MALANG\")\n",
        "siswa2 = Catatan(\"Harun\",18,\"saya sekolah di SMK9MALANG\")\n",
        "\n",
        "siswa1.gabung()\n",
        "siswa1.tampil()\n",
        "siswa1.cari()\n",
        "siswa1.duplikasi()\n",
        "siswa1.jumlah()\n",
        "siswa1.kataawal()\n",
        "print('')\n",
        "siswa2.gabung()\n",
        "siswa2.tampil()\n",
        "siswa2.cari()\n",
        "siswa2.duplikasi()\n",
        "siswa2.jumlah()\n",
        "siswa2.kataawal()"
      ],
      "metadata": {
        "id": "_Tk61gzZfyyi"
      },
      "execution_count": null,
      "outputs": []
    }
  ]
}